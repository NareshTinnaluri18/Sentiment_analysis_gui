import tkinter as tk
from tkinter import ttk
import pandas as pd

class Application(tk.Frame):
    def __init__(self, master=None):
        super().__init__(master)
        self.master = master
        self.master.title("Excel Text Viewer")
        self.pack()
        self.create_widgets()

    def create_widgets(self):
        # Create a Combobox to allow users to select the Excel sheet to load
        self.sheet_combobox = ttk.Combobox(self, values=self.get_sheet_names(), state="readonly")
        self.sheet_combobox.pack(side='top', padx=10, pady=10)
        self.sheet_combobox.bind("<<ComboboxSelected>>", self.load_data)

        # Create a Listbox to display the text from the selected Excel sheet
        self.text_listbox = tk.Listbox(self, selectmode='single')
        self.text_listbox.pack(side='left', fill='both', expand=True)
        
        self.scrollbar = tk.Scrollbar(self)
        self.scrollbar.pack(side='right', fill='y')

        self.text_listbox.config(yscrollcommand=self.scrollbar.set)
        self.scrollbar.config(command=self.text_listbox.yview)
        
        self.text_listbox.bind("<<ListboxSelect>>", self.show_selected_text)

    def get_sheet_names(self):
        # Returns a list of sheet names in the Excel file
        excel_file = pd.ExcelFile('example.xlsx')
        return excel_file.sheet_names

    def load_data(self, event):
        # Load the selected sheet from the Excel file and display the text in the Listbox
        selected_sheet = self.sheet_combobox.get()
        df = pd.read_excel('example.xlsx', sheet_name=selected_sheet)
        self.text_listbox.delete(0, 'end')
        for index, row in df.iterrows():
            self.text_listbox.insert('end', row['Text'])

    def show_selected_text(self, event):
        # Returns the selected text when a user selects a cell
        selection = self.text_listbox.curselection()
        if selection:
            selected_text = self.text_listbox.get(selection[0])
            print(selected_text)

root = tk.Tk()
app = Application(master=root)
app.mainloop()
